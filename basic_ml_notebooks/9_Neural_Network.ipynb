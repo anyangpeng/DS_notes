{
 "cells": [
  {
   "cell_type": "markdown",
   "metadata": {},
   "source": [
    "#  **Neural Network**\n",
    "---\n",
    "## **Summary**\n",
    "to be added ...\n",
    "    \n",
    "## **References**\n",
    "1. Goodfellow, I, Bengio, Y., Courville, Aaron. 2016. Deep learning. The MIT Press.\n",
    "2. Géron, A. 2017. Hands-Machine Learning with Scikit-Learn & TensorFlow. O'Reily Inc.\n",
    "\n",
    "## **Concept**\n",
    "<font size=4 color=red>**1.1 The Basic Arhitecture of Sinlge Layer (Preception) Neural Network**</font>                                   \n",
    "#### <font color=blue>A Neuron really computes two functions within a node</font>\n",
    "* Summation $\\sum$ and activation $\\Phi$                                            \n",
    "* <font size=3>For a situation where each training instance is of the from ($\\overline{X}, y$), where $\\overline{X} = [x_1,...,x_d]$ containg $d$ features, and $y\\in${-1, +1} contains the _observed value_ of the binary class variable.</font>\n",
    "<font size=3>The input layer contains _d_ nodes that transmit the _d_ features $\\overline{X}$ with edges of weight $\\overline{W} = [w_1,..., w_d]$ to an output node, then $$\\hat{y} = sign\\left\\{\\overline{W}\\cdot{\\overline{X}}\\right\\} = sign\\left\\{\\displaystyle{\\sum_{j=1}^{d}w_jx_j}\\right\\}$$ or with ___bias___(_b_) $$\\hat{y} = sign\\left\\{\\overline{W}\\cdot{\\overline{X}} + b\\right\\} = sign\\left\\{\\displaystyle{\\sum_{j=1}^{d}w_jx_j} +b\\right\\}$$ sign function ***maps*** a real value to either -1 or +1 for binary classification. The erro of the prediction is therefore $E(\\overline{X}) = y-\\hat{y}$, which is one of the values drawn from the set {-2, 0, +2}.</font>                                              \n",
    "#### The ***bias*** can be incorporated as the weight of an edge by using a ***bias neuron*** through:\n",
    "* Adding a neuron: transmiting a value of 1 to the output node\n",
    "* Feature engineering trick: additional feature with a constant value of 1\n",
    "\n",
    "#### **1.1.1 Loss function**: to minimize the error in the prediction\n",
    "$$Minimize_{\\overline{W}}L = \\displaystyle\\sum_{(\\overline{X}, y)\\in{D}}(y - \\hat{y})^2 = \\displaystyle\\sum_{(\\overline{X}, y)\\in{D}}\\left(y - sign\\left\\{\\overline{W}\\cdot{\\overline{X}}\\right\\}\\right)^2$$\n",
    "* The sign function is non-differentiable; taking on constant values over large portion of the domain $\\Longrightarrow$ zero values at differential points\n",
    "* A staircase-like loss surface $\\Longrightarrow$ **NOT** suitable for gradient-descent.\n",
    "* Solution: a smooth approximation defined by *preceptron criterion* (<font color=red>NOT true gradient of the staircase-like surface</font>) $$\\nabla L_{smooth} = \\displaystyle\\sum_{(\\overline{X}, y)\\in{D}}(y - \\hat{y})\\overline{X}$$\n",
    "\n",
    "#### **1.1.2 Choice of Activation Function $\\Phi(\\cdot)$**\n",
    "* Pre- vs Post-activation\n",
    "    * Pre-activation: value computed before applying the activation function\n",
    "    * Post-activation: value computed after applying the activation function\n",
    "* Activation Functions\n",
    "    * <font color=red><b>Identity or linear: $\\Phi(v) = v$</b></font>\n",
    "        * used in the output node when the target is a real value\n",
    "        * used for discrete outputs when a smoothed surrogate loss function needs to be set up\n",
    "        * <font color=green>derivative is 1: non-differentiable</font>\n",
    "    * <font color=red><b>Sign: $\\Phi(v) = sign(v)$</b></font>\n",
    "        * map to binary outputs at prediction time only; non-differentiability prevents from creating the loss function at training time, and only linear activation during the training\n",
    "        * <font color=green>derivative is 0 at all values of _v_ other than *v* = 0 $\\Longrightarrow$ zero gradient and non-differentiable; rarely used in the loss function</font>\n",
    "    * <font color=red><b>Sigmoid: $\\Phi(v) = \\frac{1}{1 + e^{-v}}$</b></font>\n",
    "        * outputs in (0, 1)\n",
    "        * interprted as probablity dervied from maximum-likelihood\n",
    "        * historical tool for incorportating nonlinearity in neural network\n",
    "        * <font color=green>derviative $\\frac{\\partial{o}}{\\partial{v}} = \\frac{exp(-v)}{(1+exp(-v))^2} =  o(1-o)$: often used as a function of the output.</font>\n",
    "    * <font color=red><b>Tanh: $\\Phi(v) = \\frac{e^{2v} - 1}{e^{2v} + 1}$  $\\Longrightarrow$ $tahn(v) = 2\\cdot{sigmoid(2v)} - 1$</b></font>\n",
    "        * outputs rescaled to [-1, 1]\n",
    "        * similar to sigmoid, but its mean-centering and larger gradient $\\Longrightarrow$ easier to train.\n",
    "        * historical tool for incorportating nonlinearity in neural network\n",
    "        * <font color=green>derviative $\\frac{\\partial{o}}{\\partial{v}} = \\frac{4\\cdot{exp(2v)}}{(exp(2v) +1)^2} =  1-o^2$</font>\n",
    "    * <font color=red><b>Rectified Linear Unit (ReLU): $\\Phi(v) = max\\left\\{v, 0\\right\\}$</b></font>\n",
    "        * easier to train multiple layered neural network, replacing sigmoid\n",
    "        * modern neural network activation function\n",
    "        * <font color=green>derviative: 1 for non-negative values of its argument, and 0, otherwise.</font>\n",
    "    * <font color=red><b>Hard tanh: $\\Phi(v) = max\\left\\{min[v, 1], -1\\right\\}$</b></font>\n",
    "        * easier to train multiple layered neural network, replacing sigmoid\n",
    "        * modern neural network activation function\n",
    "        * <font color=green>derviative: 1 for the argument $\\in[-1, +1]$ and 0, otherwise.</font>"
   ]
  },
  {
   "cell_type": "code",
   "execution_count": 101,
   "metadata": {},
   "outputs": [
    {
     "data": {
      "image/png": "[encoded data removed]",
      "text/plain": [
       "<Figure size 1440x288 with 5 Axes>"
      ]
     },
     "metadata": {
      "needs_background": "light"
     },
     "output_type": "display_data"
    }
   ],
   "source": [
    "import matplotlib.pyplot as plt\n",
    "import numpy as np\n",
    "\n",
    "def identity(x):\n",
    "    i = x\n",
    "    return i\n",
    "\n",
    "sign = np.sign\n",
    "\n",
    "def  sigmoid(x):\n",
    "    s = 1/(1 + np.exp(-x))\n",
    "    return s\n",
    "\n",
    "def tanh(x):\n",
    "    t = (np.exp(x) - np.exp(-x))/(np.exp(x) + np.exp(-x))\n",
    "    return t\n",
    "\n",
    "def relu(x):\n",
    "    r = np.maximum(x, 0)\n",
    "    return r\n",
    "\n",
    "x = np.arange(-5, 5, 0.01)\n",
    "\n",
    "\n",
    "activation_funcs = [identity, sign, sigmoid, tanh, relu]\n",
    "function_names = [\n",
    "    'Identity Function', \n",
    "    'Sign Function', \n",
    "    'Sigmoid Function', \n",
    "    'Tanh Function', \n",
    "    'ReLU Function'\n",
    "]\n",
    "\n",
    "fig, ax =  plt.subplots(1, 5, figsize = (20, 4))\n",
    "\n",
    "for i in range(0, len(activation_funcs)):\n",
    "    ax[i].spines['left'].set_position('center')\n",
    "    ax[i].spines['bottom'].set_position('center')\n",
    "    ax[i].spines['right'].set_position('center')\n",
    "    ax[i].spines['top'].set_position('center')\n",
    "    ax[i].xaxis.set_ticks_position('bottom')\n",
    "    ax[i].yaxis.set_ticks_position('left')\n",
    "    ax[i].set_ylim([-1, 1])\n",
    "    \n",
    "    ax[i].plot(\n",
    "        x, \n",
    "        activation_funcs[i](x), \n",
    "        color='#9621E2', \n",
    "        linewidth=3\n",
    "    )\n",
    "    ax[i].set_title(function_names[i])\n"
   ]
  },
  {
   "cell_type": "markdown",
   "metadata": {},
   "source": [
    "#### **1.1.3 Choice and Number of Output Nodes**\n",
    "* Tie to the activation functions that depend on the application\n",
    "    * e.g., *k*-way classification (intended) $\\Longrightarrow$ _k_ outputs with softmax activation function\n",
    "    * The activation function for te *i*th output is defined as: $$\\Phi(\\bar{v})_i = \\frac{exp(v_i)}{\\sum_{j=1}^{k}exp(v_j)} $$\n",
    "    * An example of the softmax function with three outputs $\\Longrightarrow$ coverting the three outputs into probablilites with the softmax function       \n",
    "\n",
    "#### **1.1.4 Choice of Loss Function**\n",
    "* Hinge loss: $L = max\\left\\{0, 1-y\\cdot\\hat{y}\\right\\}$, where $y\\in{\\left\\{-1, +1\\right\\}}$ $\\Longrightarrow$ SVM\n",
    "\n",
    "##### **1.1.4.1 Binary targets (logistic regression)**\n",
    "* $L = log(1+exp(-y\\cdot{\\hat{y}))}$: assuming the observed value $\\in{\\left\\{-1, +1\\right\\}}$, and prediction $\\hat{y}$ is an arbitrary numerical value on suing the identity activation function.\n",
    "\n",
    "##### **1.1.4.2 Categorical targets (using the softmax activation function)**\n",
    "* $L = -log(\\hat{y}_r)$: implementing multinomial logistic regression  $\\Longrightarrow$ <font color=red>*cross-entropy loss*</font>"
   ]
  },
  {
   "cell_type": "markdown",
   "metadata": {},
   "source": [
    "<font size=4 color=red>**1.2 Multilayer Neural Networks**</font>                                                                                   \n",
    "Multiple computational layers: the ***hidden layers*** between input an outputs\n",
    "#### 1.2.1 Example: Feed-forward network\n",
    "* sequentially feed the successive layers in the forward direction\n",
    "* assume all nodes in one layer are connected to those of the next layer\n",
    "* The weights of the connections b/w the input layer and the first hidden layer are contained in a _matrix_ $W_1$ with size $d\\times{p_1}$, where the weights b/w the *r*th hidden layer and the (*r*+1)th hidden layer are denoted by the $p_r\\times{p_{r+1}}$ matrix denoted by $W_r$.\n",
    "    * $\\overline{h}_1 = \\Phi(W_1^T\\overline{x})$ $\\Longrightarrow$ <font color=brown>Input to Hidden Layer</font>\n",
    "    * $\\overline{h}_{p+1} = \\Phi(W_{p+1}^T\\overline{h}_p)$     $\\forall{p}\\in{\\left\\{1,..., k-1\\right\\}}$ $\\Longrightarrow$ <font color=brown>Hidden to Hidden Layer</font>\n",
    "    * $\\overline{o} = \\Phi(W_{k+1}^T\\overline{h}_k)$ $\\Longrightarrow$ <font color=brown>Hidden to Output Layer</font>\n",
    "\n",
    "#### 1.2.2 Example: Convolutional network\n",
    "* weight pruning and sharing: e.g., image data"
   ]
  },
  {
   "cell_type": "markdown",
   "metadata": {},
   "source": [
    "<font size=4 color=red>**1.3 Training Neural Network with Backpropagation**</font>                                        \n",
    "* **Backrpogation algorithm**: <font color=blue>computing the error gradients in terms of summations of local-gradient products over the various paths froma node the ouput</font>\n",
    "    * A direct application of dynamic programming\n",
    "    * Two phases: _forward_ vs *backword*\n",
    "    \n",
    "#### 1.3.1 Forward phase: the inputs for a training instance are fed into the neural network\n",
    "* A forward cascade of computation across the layers with current set of weights\n",
    "* The derivative of the loss fuction with respect to the output is computed\n",
    "* The derivative will be computed with respect to the weights in all layers in the backward phase                            \n",
    "\n",
    "#### 1.3.1 Backward phase: compute the graident of the loss function with respect to the different weights by using the chain rule of differential calculus\n",
    "* Gradient for updating the weights\n",
    "* Starting from the ouput node\n",
    "\n",
    "<font size=4 color=red>**1.4 Practical Issues in Neural Network Training**</font>     \n",
    "#### 1.4.1 Overfitting\n",
    "* Remedies\n",
    "    * Regularization\n",
    "    * Architecture and Parameter Sharing\n",
    "    * Early Stopping\n",
    "    * Breadth vs Depth\n",
    "    * Ensemblre\n",
    "\n",
    "#### 1.4.2 Gradient Vanishing and Explodeing\n",
    "\n",
    "#### 1.4.3 Hardly Convergence\n",
    "\n",
    "#### 1.4.4 Local and Spurious Optima\n",
    "\n",
    "#### 1.4.5 Computational Challenges\n",
    "\n",
    "<font size=4 color=red>**1.5 The Power of Function Composition**</font>                                      \n",
    "**'Much of the power of deep learning arises from the fact that the <font color=red>_repeated composition of certain types of functions increases the representation power of the network, and therefore reduces the parameter space requred for learning_</font>'**           \n",
    "\n",
    "* <font color=green>**Theorem**</font>: _A multi-layer network that uses only the identity activation function in all its layers reduces to a single-layer network performing linear regression_.\n",
    "* <font color=brown>**Lemma**</font>: _Consider a multilayer network in which all hidden layers use identity activation and the single output node uses the perceptron criterion as the loss function and sign activation for prediction. This neural network reduces to the single-layer perceptron._\n",
    "\n",
    "#### 1.5.1 Nonlinear Activation\n",
    "* <font size=3 color=red>Activation functions enable nonlinear mappings of the data, so that the embedded points can become linearly separable.</font>\n",
    "* e.g., A=(-1,1), B=(0,1), C=(1,1)\n",
    "    * Not linearly separable $\\Longrightarrow$ Linear activation NOT working $\\Longrightarrow$ Nonlinear activation\n",
    "        * Hidden units applied with ReLU activation function\n",
    "        $$h_1 = max{\\left\\{x_1, 0\\right\\}}$$\n",
    "        $$h_2 = max{\\left\\{-x_1, 0\\right\\}}$$\n",
    "    * A=(0,1), B=(0,0), C=(1,0) $\\Longrightarrow$ linearly separable\n",
    "* XOR function separating points {(0,0), (1,1)} and {(1,0),(0,1)} into two different classes.\n",
    "\n",
    "#### 1.5.2 Reducing Parameter Requriment with Depth (breadth vs depth)\n",
    "\n",
    "<font size=4 color=red>**1.6 Common Neural Architectures**</font>                                              \n",
    "#### 1.6.1 Shallow Models (1 or 2 layers)\n",
    "* linear regression, classification, support vector machine, logistic regression, singular value decomposition, matrix factorization, and etc\n",
    "* Similating and learning neural networks\n",
    "* Deep learning: stacking the simpler models in a creative way\n",
    "\n",
    "#### 1.6.2 Radial Basis Function Network (RBF)\n",
    "* Not deep, typically having two only two layers\n",
    "* 1st layer: unsupervised training; 2nd layer: supervised training\n",
    "* Gain insights from expanding the size of the feature space rather than depth\n",
    "* 2nd layer training: supervised nearest neighborhood classification\n",
    "\n",
    "#### 1.6.3 Restricted Boltzmann Machines (RBMs)\n",
    "* Using the notion of energy minimization to modeling data in an unsupervised way\n",
    "* Requiring Monte Carlo sampling in order to train\n",
    "* Algorithm: _constrastive divergence algorithm_\n",
    "\n",
    "#### 1.6.4 Recurrent Neural Networks\n",
    "* Designedd for sequential data, e.g., text sentence, time-series, biological sequences, and etc\n",
    "* Backgpropagation algorithm: Backpropagation through time (BPTT)\n",
    "\n",
    "#### 1.6.5 Convolutional Neural Network (a sparse architecture)\n",
    "* **Image classification and object detection**\n",
    "* Hubel and Wiesel's understanding of how cat's visual cortex works: specific portion of the visual field excites particular neurons\n",
    "* <font color=red>Each layer</font>: 3-dimensional (corresponding to RGB in input layer or hidden features maps that encode various types of the shape in the image)\n",
    "* Two types of layers: ***convolution*** and ***subsampling*** layers\n",
    "    * Convolution operation: a filter to map the activations from one layer to the next\n",
    "    \n",
    "#### 1.6.6 Hierarchical Feature Engineering and Pretrain Models"
   ]
  },
  {
   "cell_type": "markdown",
   "metadata": {},
   "source": [
    "### **2. Basics of Feedforward Neural Network in Keras**\n",
    "* Remember that each _unit_ (node or neuron) in the hidden layers:\n",
    "    * 1. Receives a number of inputs\n",
    "    * 2. Weights each input by a parameter value\n",
    "    * 3. Sums together all weighted inputs along with some bias (typically 1)\n",
    "    * 4. Most often then applies some funciton (called an _activation function_)\n",
    "    * 5. Sends the output on to units in the next layer\n",
    "\n",
    "#### <font color=blue>General requirments for constructing a neural network</font>\n",
    "* <font size= 3 color=red>**First**</font>: Define the number of the units to include in each layer and the activation funciton in the hidden and output layers.\n",
    "    * The more units, the more to learn complex patterns\n",
    "        * __Caution__: overfit the training data\n",
    "        * A popular activation function: <font color=red>_rectified linear unit (Re LU)_</font>\n",
    "        $f(z) = max(0,z)$, where $z$ i sthe sum of the weighted inputs and bias.\n",
    "        * other activation fuctions: e.g., sigmoid, softmax, etc                                        \n",
    "\n",
    "* <font size= 3 color=red>**Second**</font>: Define the number of the hidden layers\n",
    "    * Complex relationship vs computational cost\n",
    "\n",
    "* <font size= 3 color=red>**Third**</font>: Define the structure of the activation function of the output layer and loss function\n",
    "    * <font color=blue>Binary classification</font>: Binary cross-entropy\n",
    "    * <font color=orange>Multiclass classification</font>: Categorical cross-entropy\n",
    "    * <font color=brown>Regression</font>: Mean square error ($MSE = \\frac{1}{n}\\displaystyle\\sum_{i=1}^{n}(\\hat{y_i}-y_i)^2$)\n",
    "\n",
    "* <font size= 3 color=red>**Fourth**</font>: Define the optimizer\n",
    "    * e.g., stochastic gradient descent (SGD),stochastic gradient descent with momentum, root mean square propagation, adaptive moment estimation\n",
    "\n",
    "* <font size= 3 color=red>**Fifth**</font>: Evaluate performance with one or multiple metrics\n",
    "\n",
    "#### <font color=blue>Keras: Two ways to create neural works</font>\n",
    "* Sequential model: stacking layers togeter\n",
    "* Functional API: for researchers rather than practitioners\n",
    "\n",
    "#### <font color=blue>Some basic parameters of the Keras</font>\n",
    "* '<font color=red>dense</font>': fully connected, all units in the previous layer are connected to all the neurals in the next layer\n",
    "* '<font color=red>units =</font>': the number of the units with activation function\n",
    "* '<font color=red>activation = 'relu'</font>': ReLU activation function\n",
    "* '<font color=red>input_shape = (10, )</font>': the first layer of any network has to include this parameter, e.g., 10 feature values\n",
    "* '<font color=red>RMSProp</font>': a optimization algorithm\n",
    "* '<font color=red>binary_crossentropy</font>': a loss function"
   ]
  },
  {
   "cell_type": "markdown",
   "metadata": {},
   "source": [
    "### 2.1 Building a Neural Network Model with Keras\n",
    "* Binary classifier\n",
    "* Multiclass classifier\n",
    "* Regression\n",
    "\n",
    "<font color=brown>**2.1.1 Binary classifier**</font>"
   ]
  },
  {
   "cell_type": "code",
   "execution_count": null,
   "metadata": {},
   "outputs": [],
   "source": [
    "import numpy as np\n",
    "from keras.datasets import imdb\n",
    "from keras.preprocessing.text import Tokenizer\n",
    "from keras import models\n",
    "from keras import layers\n",
    "\n",
    "np.random.seed(9)\n",
    "\n",
    "number_of_features = 1000\n",
    "\n",
    "(data_train, target_train), (data_test, target_test) = imdb.load_data(num_words = number_of_features)\n",
    "\n",
    "tokenizer = Tokenizer(num_words =  number_of_features)\n",
    "features_train = tokenizer.sequences_to_matrix(data_train, mode = 'binary')\n",
    "features_test = tokenizer.sequences_to_matrix(data_test, mode = 'binary')\n",
    "\n",
    "network = models.Sequential()\n",
    "\n",
    "network.add(layers.Dense(units = 16, activation = 'relu', input_shape = (number_of_features, )))\n",
    "network.add(layers.Dense(units = 16, activation = 'relu'))\n",
    "network.add(layers.Dense(units = 1, activation = 'sigmoid'))\n",
    "\n",
    "network.compile(loss = 'binary_crossentropy',\n",
    "                optimizer = 'rmsprop',\n",
    "                metrics = ['accuracy'])\n",
    "\n",
    "history = network.fit(features_train,\n",
    "                      target_train, \n",
    "                      epochs = 10,\n",
    "                      verbose = 1,\n",
    "                      batch_size = 100,\n",
    "                      validation_data = (features_test, target_test))"
   ]
  },
  {
   "cell_type": "code",
   "execution_count": null,
   "metadata": {},
   "outputs": [],
   "source": [
    "training_loss = history.history['loss']\n",
    "test_loss = history.history['val_loss']\n",
    "\n",
    "epoch_count = range(1, len(training_loss) + 1)\n",
    "\n",
    "plt.plot(epoch_count, training_loss, 'r--')\n",
    "plt.plot(epoch_count, test_loss, 'b-')\n",
    "plt.legend(['Training Loss', 'Test Loss'])\n",
    "plt.xlabel('Epoch')\n",
    "plt.ylabel('Loss')\n",
    "plt.show()\n",
    "\n",
    "training_accuracy = history.history['acc']\n",
    "test_accuracy = history.history['val_acc']\n",
    "\n",
    "epoch_count = range(1, len(training_accuracy) + 1)\n",
    "\n",
    "plt.plot(epoch_count, training_accuracy, 'r--')\n",
    "plt.plot(epoch_count, test_accuracy, 'b-')\n",
    "plt.legend(['Training Accuracy', 'Test Accuracy'])\n",
    "plt.xlabel('Epoch')\n",
    "plt.ylabel('Accuracy')\n",
    "plt.show()"
   ]
  },
  {
   "cell_type": "markdown",
   "metadata": {},
   "source": [
    "<font color=brown>**2.1.2 Multiclass classifier**</font>"
   ]
  },
  {
   "cell_type": "code",
   "execution_count": null,
   "metadata": {},
   "outputs": [],
   "source": [
    "import numpy as np\n",
    "from keras.datasets import reuters\n",
    "from keras.utils.np_utils import to_categorical\n",
    "from keras.preprocessing.text import Tokenizer\n",
    "from keras import models\n",
    "from keras import layers\n",
    "\n",
    "np.random.seed(0)\n",
    "\n",
    "number_of_features = 5000\n",
    "\n",
    "data = reuters.load_data(num_words = number_of_features)\n",
    "(data_train, target_vector_train), (data_test, target_vector_test) = data\n",
    "\n",
    "tokenizer = Tokenizer(num_words = number_of_features)\n",
    "features_train = tokenizer.sequences_to_matrix(data_train, mode = 'binary')\n",
    "features_test = tokenizer.sequences_to_matrix(data_test, mode = 'binary')\n",
    "\n",
    "target_train = to_categorical(target_vector_train)\n",
    "target_test = to_categorical(target_vector_test)\n",
    "\n",
    "network = models.Sequential()\n",
    "\n",
    "network.add(layers.Dense(units = 100, activation = 'relu', input_shape = (number_of_features, )))\n",
    "network.add(layers.Dense(units = 100, activation = 'relu'))\n",
    "network.add(layers.Dense(units = 46, activation = 'softmax'))\n",
    "\n",
    "network.compile(loss = 'categorical_crossentropy',\n",
    "                optimizer = 'rmsprop',\n",
    "                metrics = ['accuracy'])\n",
    "\n",
    "history = network.fit(features_train, \n",
    "                      target_train,\n",
    "                      epochs = 10,\n",
    "                      verbose = 1,\n",
    "                      batch_size = 100,\n",
    "                      validation_data = (features_test, target_test))"
   ]
  },
  {
   "cell_type": "code",
   "execution_count": null,
   "metadata": {},
   "outputs": [],
   "source": [
    "training_loss = history.history['loss']\n",
    "test_loss = history.history['val_loss']\n",
    "\n",
    "epoch_count = range(1, len(training_loss) + 1)\n",
    "\n",
    "plt.plot(epoch_count, training_loss, 'r--')\n",
    "plt.plot(epoch_count, test_loss, 'b-')\n",
    "plt.legend(['Training Loss', 'Test Loss'])\n",
    "plt.xlabel('Epoch')\n",
    "plt.ylabel('Loss')\n",
    "plt.show()\n",
    "\n",
    "training_accuracy = history.history['acc']\n",
    "test_accuracy = history.history['val_acc']\n",
    "\n",
    "epoch_count = range(1, len(training_accuracy) + 1)\n",
    "\n",
    "plt.plot(epoch_count, training_accuracy, 'r--')\n",
    "plt.plot(epoch_count, test_accuracy, 'b-')\n",
    "plt.legend(['Training Accuracy', 'Test Accuracy'])\n",
    "plt.xlabel('Epoch')\n",
    "plt.ylabel('Accuracy')\n",
    "plt.show()"
   ]
  },
  {
   "cell_type": "markdown",
   "metadata": {},
   "source": [
    "<font color=brown>**2.1.3 Regression**</font>"
   ]
  },
  {
   "cell_type": "code",
   "execution_count": null,
   "metadata": {},
   "outputs": [
    {
     "ename": "",
     "evalue": "",
     "output_type": "error",
     "traceback": [
      "\u001b[1;31mRunning cells with 'Python 3.8.9 64-bit' requires ipykernel package.\n",
      "\u001b[1;31mRun the following command to install 'ipykernel' into the Python environment. \n",
      "\u001b[1;31mCommand: '/usr/bin/python3 -m pip install ipykernel -U --user --force-reinstall'"
     ]
    }
   ],
   "source": [
    "import numpy as np\n",
    "from keras.preprocessing.text import Tokenizer\n",
    "from keras import models, layers\n",
    "from sklearn.datasets import make_regression\n",
    "from sklearn.model_selection import train_test_split\n",
    "from sklearn import preprocessing\n",
    "\n",
    "np.random.seed(19)\n",
    "\n",
    "features, target = make_regression(\n",
    "    n_samples=10000,\n",
    "    n_features=3, \n",
    "    n_informative=3, \n",
    "    n_targets=1,\n",
    "    noise=0.0,\n",
    "    random_state=0\n",
    ")\n",
    "\n",
    "features_train, features_test, target_train, target_test = train_test_split(\n",
    "    features, target, test_size = 0.33, random_state = 0\n",
    ")\n",
    "\n",
    "network = models.Sequential()\n",
    "\n",
    "network.add(\n",
    "    layers.Dense(\n",
    "        units=32, \n",
    "        activation='relu',\n",
    "        input_shape=(features_train.shape[1], )\n",
    "    )\n",
    ")\n",
    "network.add(\n",
    "    layers.Dense(\n",
    "        units = 32,\n",
    "        activation='relu')\n",
    ")\n",
    "network.add(layers.Dense(units = 1))\n",
    "network.compile(\n",
    "    loss = 'mse',\n",
    "    optimizer = 'RMSprop',\n",
    "    metrics = ['mse']\n",
    ")\n",
    "\n",
    "history =  network.fit(\n",
    "    features_train,\n",
    "    target_train,\n",
    "    epochs=10,\n",
    "    verbose=1, \n",
    "    batch_size=100, \n",
    "    validation_data=(features_test, target_test)\n",
    ")"
   ]
  },
  {
   "cell_type": "code",
   "execution_count": null,
   "metadata": {},
   "outputs": [],
   "source": [
    "training_loss = history.history['loss']\n",
    "test_loss = history.history['val_loss']\n",
    "\n",
    "epoch_count = range(1, len(training_loss) + 1)\n",
    "\n",
    "plt.plot(epoch_count, training_loss, 'r--')\n",
    "plt.plot(epoch_count, test_loss, 'b-')\n",
    "plt.legend(['Training Loss', 'Test Loss'])\n",
    "plt.xlabel('Epoch')\n",
    "plt.ylabel('Loss')\n",
    "plt.show()\n",
    "\n",
    "training_accuracy = history.history['mean_squared_error']\n",
    "test_accuracy = history.history['val_mean_squared_error']\n",
    "\n",
    "epoch_count = range(1, len(training_accuracy) + 1)\n",
    "\n",
    "plt.plot(epoch_count, training_accuracy, 'r--')\n",
    "plt.plot(epoch_count, test_accuracy, 'b-')\n",
    "plt.legend(['Training MSE', 'Test MSE'])\n",
    "plt.xlabel('Epoch')\n",
    "plt.ylabel('MSE')\n",
    "plt.show()"
   ]
  },
  {
   "cell_type": "markdown",
   "metadata": {},
   "source": [
    "### **2.2 Making Predictions**"
   ]
  },
  {
   "cell_type": "code",
   "execution_count": null,
   "metadata": {},
   "outputs": [],
   "source": [
    "import numpy as np\n",
    "from keras.datasets import imdb\n",
    "from keras.preprocessing.text import Tokenizer\n",
    "from keras import models, layers\n",
    "import matplotlib.pyplot as plt\n",
    "\n",
    "np.random.seed(0)\n",
    "\n",
    "number_of_features = 10000\n",
    "\n",
    "(data_train, target_train), (data_test, target_test) = imdb.load_data(num_words = number_of_features)\n",
    "\n",
    "tokenizer = Tokenizer(num_words = number_of_features)\n",
    "features_train = tokenizer.sequences_to_matrix(data_train, mode = 'binary')\n",
    "features_test = tokenizer.sequences_to_matrix(data_test, mode = 'binary')\n",
    "\n",
    "network = models.Sequential()\n",
    "\n",
    "network.add(layers.Dense(units = 16,\n",
    "                         activation = 'relu',\n",
    "                         input_shape = (number_of_features, )))\n",
    "network.add(layers.Dense(units = 16,\n",
    "                         activation = 'relu'))\n",
    "network.add(layers.Dense(units = 1, activation = 'sigmoid'))\n",
    "\n",
    "network.compile(loss = 'binary_crossentropy',\n",
    "                optimizer = 'rmsprop',\n",
    "                metrics = ['accuracy'])\n",
    "\n",
    "history = network.fit(features_train,\n",
    "                      target_train,\n",
    "                      epochs = 5,\n",
    "                      verbose = 1,\n",
    "                      batch_size = 100,\n",
    "                      validation_data = (features_test, target_test))\n",
    "\n",
    "predict_target = network.predict(features_test)"
   ]
  },
  {
   "cell_type": "code",
   "execution_count": null,
   "metadata": {},
   "outputs": [],
   "source": [
    "training_loss = history.history['loss']\n",
    "test_loss = history.history['val_loss']\n",
    "\n",
    "epoch_count = range(1, len(training_loss) + 1)\n",
    "\n",
    "plt.plot(epoch_count, training_loss, 'r--')\n",
    "plt.plot(epoch_count, test_loss, 'b-')\n",
    "plt.legend(['Training Loss', 'Test Loss'])\n",
    "plt.xlabel('Epoch')\n",
    "plt.ylabel('Loss')\n",
    "plt.show()\n",
    "\n",
    "training_accuracy = history.history['acc']\n",
    "test_accuracy = history.history['val_acc']\n",
    "\n",
    "epoch_count = range(1, len(training_accuracy) + 1)\n",
    "\n",
    "plt.plot(epoch_count, training_accuracy, 'r--')\n",
    "plt.plot(epoch_count, test_accuracy, 'b-')\n",
    "plt.legend(['Training Accuracy', 'Test Accuracy'])\n",
    "plt.xlabel('Epoch')\n",
    "plt.ylabel('Accuracy')\n",
    "plt.show()"
   ]
  },
  {
   "cell_type": "markdown",
   "metadata": {},
   "source": [
    "### 2.3 Optimizing the model (Reducing Overfitting)\n",
    "* Weight regularization\n",
    "* Early Stopping\n",
    "* Dropout\n",
    "\n",
    "#### 2.3.1 Weight regularization\n",
    "A penalty is added to the loss function, e.g., L2 norm"
   ]
  },
  {
   "cell_type": "code",
   "execution_count": null,
   "metadata": {},
   "outputs": [],
   "source": [
    "import numpy as np\n",
    "from keras.datasets import imdb\n",
    "from keras.preprocessing.text import Tokenizer\n",
    "from keras import models, layers, regularizers\n",
    "\n",
    "np.random.seed(0)\n",
    "\n",
    "number_of_features = 1000\n",
    "\n",
    "(data_train, target_train), (data_test, target_test) = imdb.load_data(num_words = number_of_features)\n",
    "\n",
    "tokenizer = Tokenizer(num_words = number_of_features)\n",
    "features_train = tokenizer.sequences_to_matrix(data_train, mode = 'binary')\n",
    "features_test = tokenizer.sequences_to_matrix(data_test, mode = 'binary')\n",
    "\n",
    "network = models.Sequential()\n",
    "\n",
    "network.add(layers.Dense(units = 16,\n",
    "                         activation = 'relu',\n",
    "                         kernel_regularizer = regularizers.l2(0.01),\n",
    "                         input_shape = (number_of_features,)))\n",
    "network.add(layers.Dense(units = 16,\n",
    "                         kernel_regularizer = regularizers.l2(0.01),\n",
    "                         activation = 'relu'))\n",
    "network.add(layers.Dense(units = 1, activation = 'sigmoid'))\n",
    "\n",
    "network.compile(loss = 'binary_crossentropy',\n",
    "                optimizer = 'rmsprop',\n",
    "                metrics = ['accuracy'])\n",
    "history = network.fit(features_train, \n",
    "                      target_train,\n",
    "                      epochs = 20,\n",
    "                      verbose = 0,\n",
    "                      batch_size = 100,\n",
    "                      validation_data = (features_test, target_test))"
   ]
  },
  {
   "cell_type": "code",
   "execution_count": null,
   "metadata": {},
   "outputs": [],
   "source": [
    "training_loss = history.history['loss']\n",
    "test_loss = history.history['val_loss']\n",
    "\n",
    "epoch_count = range(1, len(training_loss) + 1)\n",
    "\n",
    "plt.plot(epoch_count, training_loss, 'r--')\n",
    "plt.plot(epoch_count, test_loss, 'b-')\n",
    "plt.legend(['Training Loss', 'Test Loss'])\n",
    "plt.xlabel('Epoch')\n",
    "plt.ylabel('Loss')\n",
    "plt.show()\n",
    "\n",
    "training_accuracy = history.history['acc']\n",
    "test_accuracy = history.history['val_acc']\n",
    "\n",
    "epoch_count = range(1, len(training_accuracy) + 1)\n",
    "\n",
    "plt.plot(epoch_count, training_accuracy, 'r--')\n",
    "plt.plot(epoch_count, test_accuracy, 'b-')\n",
    "plt.legend(['Training Accuracy', 'Test Accuracy'])\n",
    "plt.xlabel('Epoch')\n",
    "plt.ylabel('Accuracy')\n",
    "plt.show()"
   ]
  },
  {
   "cell_type": "markdown",
   "metadata": {},
   "source": [
    "#### 2.3.2 Early Stopping\n",
    "* Monitoring the training process and stop training when the test error starts to increase.\n",
    "* Saving the model after every checkpoint: useful in case a multiday training sesssion is interrupted for some reason."
   ]
  },
  {
   "cell_type": "code",
   "execution_count": null,
   "metadata": {},
   "outputs": [],
   "source": [
    "import numpy as np\n",
    "from keras.datasets import imdb\n",
    "from keras.preprocessing.text import Tokenizer\n",
    "from keras import models, layers\n",
    "from keras.callbacks import EarlyStopping, ModelCheckpoint\n",
    "\n",
    "np.random.seed(0)\n",
    "\n",
    "number_of_features = 1000\n",
    "\n",
    "(data_train, target_train), (data_test, target_test) = imdb.load_data(num_words = number_of_features)\n",
    "\n",
    "tokenizer = Tokenizer(num_words = number_of_features)\n",
    "features_train = tokenizer.sequences_to_matrix(data_train, mode = 'binary')\n",
    "features_test = tokenizer.sequences_to_matrix(data_test, mode = 'binary')\n",
    "\n",
    "network =  models.Sequential()\n",
    "\n",
    "network.add(layers.Dense(units = 16,\n",
    "                         activation = 'relu',\n",
    "                         input_shape = (number_of_features, )))\n",
    "network.add(layers.Dense(units = 16, activation = 'relu'))\n",
    "network.add(layers.Dense(units = 1, activation = 'sigmoid'))\n",
    "\n",
    "network.compile(loss = 'binary_crossentropy',\n",
    "                optimizer = 'rmsprop',\n",
    "                metrics = ['accuracy'])\n",
    "\n",
    "callbacks = [EarlyStopping(monitor = 'val_loss', patience =2),\n",
    "             ModelCheckpoint(filepath = 'best_model.h5',  \n",
    "                             monitor = 'val_loss',\n",
    "                             save_best_only =  True)]\n",
    "history = network.fit(features_train,\n",
    "                      target_train,\n",
    "                      epochs = 10,\n",
    "                      callbacks = callbacks,\n",
    "                      verbose = 0,\n",
    "                      batch_size =100,\n",
    "                      validation_data = (features_test, target_test))"
   ]
  },
  {
   "cell_type": "code",
   "execution_count": null,
   "metadata": {},
   "outputs": [],
   "source": [
    "training_loss = history.history['loss']\n",
    "test_loss = history.history['val_loss']\n",
    "\n",
    "epoch_count = range(1, len(training_loss) + 1)\n",
    "\n",
    "plt.plot(epoch_count, training_loss, 'r--')\n",
    "plt.plot(epoch_count, test_loss, 'b-')\n",
    "plt.legend(['Training Loss', 'Test Loss'])\n",
    "plt.xlabel('Epoch')\n",
    "plt.ylabel('Loss')\n",
    "plt.show()\n",
    "\n",
    "training_accuracy = history.history['acc']\n",
    "test_accuracy = history.history['val_acc']\n",
    "\n",
    "epoch_count = range(1, len(training_accuracy) + 1)\n",
    "\n",
    "plt.plot(epoch_count, training_accuracy, 'r--')\n",
    "plt.plot(epoch_count, test_accuracy, 'b-')\n",
    "plt.legend(['Training Accuracy', 'Test Accuracy'])\n",
    "plt.xlabel('Epoch')\n",
    "plt.ylabel('Accuracy')\n",
    "plt.show()"
   ]
  },
  {
   "cell_type": "markdown",
   "metadata": {},
   "source": [
    "#### 2.3.3 Dropout\n",
    "* A proportion of the units in one or more layers is multiple by zero (dropped): <font color=red>each batch is confronted by a slightly different version of the network's architecture</font>\n",
    "* Constantly and randomly dropping out units in each batch: forcing the uits to learn parameter values able to perform under a wide variety of network architectures $\\Longrightarrow$ <font color=blue>preventing the network from simply 'memorizing' the training data.</font>\n",
    "* Dropout can be added to both hidden and input layers"
   ]
  },
  {
   "cell_type": "code",
   "execution_count": null,
   "metadata": {},
   "outputs": [],
   "source": [
    "import numpy as np\n",
    "from keras.datasets import imdb\n",
    "from keras.preprocessing.text import Tokenizer\n",
    "from keras import models, layers\n",
    "\n",
    "np.random.seed(0)\n",
    "\n",
    "number_of_features = 10000\n",
    "\n",
    "(data_train, target_train), (data_test, target_test) = imdb.load_data(num_words = number_of_features)\n",
    "\n",
    "tokenizer = Tokenizer(num_words = number_of_features)\n",
    "features_train = tokenizer.sequences_to_matrix(data_train, mode = 'binary')\n",
    "features_test = tokenizer.sequences_to_matrix(data_test, mode = 'binary')\n",
    "\n",
    "network = models.Sequential()\n",
    "network.add(layers.Dropout(0.2, input_shape = (number_of_features, )))\n",
    "network.add(layers.Dense(units = 16, activation = 'relu'))\n",
    "network.add(layers.Dropout(0.5))\n",
    "network.add(layers.Dense(units = 16, activation = 'relu'))\n",
    "network.add(layers.Dropout(0.5))\n",
    "network.add(layers.Dense(units = 1, activation = 'sigmoid'))\n",
    "\n",
    "network.compile(loss = 'binary_crossentropy',\n",
    "                optimizer = 'rmsprop',\n",
    "                metrics = ['accuracy'])\n",
    "history = network.fit(features_train,\n",
    "                      target_train,\n",
    "                      epochs = 10,\n",
    "                      verbose = 0,\n",
    "                      validation_data = (features_test, target_test))"
   ]
  },
  {
   "cell_type": "code",
   "execution_count": null,
   "metadata": {},
   "outputs": [],
   "source": [
    "training_loss = history.history['loss']\n",
    "test_loss = history.history['val_loss']\n",
    "\n",
    "epoch_count = range(1, len(training_loss) + 1)\n",
    "\n",
    "plt.plot(epoch_count, training_loss, 'r--')\n",
    "plt.plot(epoch_count, test_loss, 'b-')\n",
    "plt.legend(['Training Loss', 'Test Loss'])\n",
    "plt.xlabel('Epoch')\n",
    "plt.ylabel('Loss')\n",
    "plt.show()\n",
    "\n",
    "training_accuracy = history.history['acc']\n",
    "test_accuracy = history.history['val_acc']\n",
    "\n",
    "epoch_count = range(1, len(training_accuracy) + 1)\n",
    "\n",
    "plt.plot(epoch_count, training_accuracy, 'r--')\n",
    "plt.plot(epoch_count, test_accuracy, 'b-')\n",
    "plt.legend(['Training Accuracy', 'Test Accuracy'])\n",
    "plt.xlabel('Epoch')\n",
    "plt.ylabel('Accuracy')\n",
    "plt.show()"
   ]
  },
  {
   "cell_type": "markdown",
   "metadata": {},
   "source": [
    "### 2.4 Saving Model Training Progress\n",
    "* '<font color=red>save_best_only = True</font>' and '<font color=blue>monitor = 'val_loss'</font>': no override a file if the model has a worse test loss than the previous model\n",
    "* '<font color=brown>filepath = model_{epoch:02d}*_*{val_loss:.2f}.hdf5</font>' will save every epoch's model with epoch number."
   ]
  },
  {
   "cell_type": "code",
   "execution_count": null,
   "metadata": {},
   "outputs": [],
   "source": [
    "from keras.callbacks import ModelCheckpoint\n",
    "\n",
    "# Add the function below to save the best model\n",
    "checkpoint = [ModelCheckpoint(filepath = 'models.hdf5')]\n",
    "\n",
    "history = network.fit(features_train,\n",
    "                      target_train,\n",
    "                      epochs = 10,\n",
    "                      callbacks = checkpoint,\n",
    "                      verbose = 0,\n",
    "                      batch_size = 100,\n",
    "                      validation_data = (features_test, target_test))"
   ]
  },
  {
   "cell_type": "markdown",
   "metadata": {},
   "source": [
    "### 2.5 k-Fold Cross-validation Neural Network"
   ]
  },
  {
   "cell_type": "code",
   "execution_count": null,
   "metadata": {},
   "outputs": [],
   "source": [
    "import numpy as np\n",
    "from keras import models, layers\n",
    "from keras.wrappers.scikit_learn import KerasClassifier\n",
    "from sklearn.model_selection import cross_val_score\n",
    "from sklearn.datasets import make_classification\n",
    "\n",
    "np.random.seed(0)\n",
    "\n",
    "number_of_features = 100\n",
    "\n",
    "features, target = make_classification(n_samples = 10000,\n",
    "                                       n_features = number_of_features,\n",
    "                                       n_informative = 3,\n",
    "                                       n_redundant = 0,\n",
    "                                       n_classes = 2,\n",
    "                                       weights = [0.5, 0.5],\n",
    "                                       random_state = 0)\n",
    "\n",
    "def create_neural_network():\n",
    "    network = models.Sequential()\n",
    "    network.add(layers.Dense(units = 16,\n",
    "                             activation = 'relu',\n",
    "                             input_shape = (number_of_features,)))\n",
    "    network.add(layers.Dense(units = 16,\n",
    "                             activation = 'relu'))\n",
    "    network.add(layers.Dense(units = 1,\n",
    "                             activation = 'sigmoid'))\n",
    "    network.compile(loss = 'binary_crossentropy',\n",
    "                    optimizer = 'rmsprop',\n",
    "                    metrics = ['accuracy'])\n",
    "    return network\n",
    "\n",
    "neural_network = KerasClassifier(build_fn = create_neural_network,\n",
    "                                 epochs = 10,\n",
    "                                 batch_size = 100,\n",
    "                                 verbose = 0)\n",
    "\n",
    "cross_val_score(neural_network, features, target, cv = 5)"
   ]
  },
  {
   "cell_type": "markdown",
   "metadata": {},
   "source": [
    "### 2.6 Tuning Neural Network"
   ]
  },
  {
   "cell_type": "code",
   "execution_count": null,
   "metadata": {},
   "outputs": [],
   "source": [
    "import numpy as np\n",
    "from keras import models, layers\n",
    "from keras.wrappers.scikit_learn import KerasClassifier\n",
    "from sklearn.model_selection import GridSearchCV\n",
    "from sklearn.datasets import make_classification\n",
    "\n",
    "np.random.seed(0)\n",
    "\n",
    "number_of_features = 100\n",
    "\n",
    "features, target = make_classification(n_samples = 10000,\n",
    "                                       n_features = number_of_features,\n",
    "                                       n_informative = 3,\n",
    "                                       n_redundant = 0,\n",
    "                                       n_classes = 2,\n",
    "                                       weights = [0.5, 0.5],\n",
    "                                       random_state = 0)\n",
    "\n",
    "def create_neural_network(optimizer = 'rmsprop'):\n",
    "    network = models.Sequential()\n",
    "    network.add(layers.Dense(units = 16, \n",
    "                             activation = 'relu',\n",
    "                             input_shape = (number_of_features,)))\n",
    "    network.add(layers.Dense(units = 16, activation = 'relu'))\n",
    "    network.add(layers.Dense(units = 1, activation = 'sigmoid'))\n",
    "    network.compile(loss = 'binary_crossentropy',\n",
    "                    optimizer = optimizer,\n",
    "                    metrics = ['accuracy'])\n",
    "    return network\n",
    "\n",
    "neural_network = KerasClassifier(build_fn = create_neural_network, verbose = 0)\n",
    "\n",
    "epoches = [5, 10]\n",
    "batches = [5, 10, 100]\n",
    "optimizers = ['rmsprop', 'adam']\n",
    "\n",
    "hyperparameters = dict(optimizer = optimizers, epochs = epoches, batch_size = batches)\n",
    "\n",
    "grid =GridSearchCV(estimator = neural_network, param_grid = hyperparameters)\n",
    "grid_result =  grid.fit(features, target)\n",
    "print(grid_results.best_params_)"
   ]
  },
  {
   "cell_type": "markdown",
   "metadata": {},
   "source": [
    "### 2.7 Classifying Images\n",
    "#### 2.7.1 Convolutional neural network (ConvNets)"
   ]
  },
  {
   "cell_type": "code",
   "execution_count": null,
   "metadata": {},
   "outputs": [],
   "source": [
    "import numpy as np\n",
    "from keras.datasets import mnist\n",
    "from keras.models import Sequential\n",
    "from keras.layers import Dense, Dropout, Flatten\n",
    "from keras.layers.convolutional import Conv2D, MaxPooling2D\n",
    "from keras.utils import np_utils\n",
    "from keras import backend as K\n",
    "\n",
    "K.set_image_data_format('channels_first')\n",
    "\n",
    "np.random.seed(0)\n",
    "\n",
    "channels = 1\n",
    "height = 28\n",
    "width = 28\n",
    "\n",
    "(data_train, target_train), (data_test, target_test) = mnist.load_data()\n",
    "\n",
    "data_train = data_train.reshape(data_train.shape[0], channels, height, width)\n",
    "data_test = data_test.reshape(data_test.shape[0], channels, height, width)\n",
    "\n",
    "features_train = data_train / 255\n",
    "features_test = data_test / 255\n",
    "\n",
    "target_train = np_utils.to_categorical(target_train)\n",
    "target_test = np_utils.to_categorical(target_test)\n",
    "number_of_classes = target_test.shape[1]\n",
    "\n",
    "network = Sequential()\n",
    "\n",
    "network.add(Conv2D(filters = 64,\n",
    "                   kernel_size = (5, 5),\n",
    "                   input_shape = (channels, width, height),\n",
    "                   activation = 'relu'))\n",
    "network.add(MaxPooling2D(pool_size = (2, 2)))\n",
    "network.add(Dropout(0.5))\n",
    "network.add(Flatten())\n",
    "network.add(Dense(128, activation = 'relu'))\n",
    "network.add(Dropout(0.5))\n",
    "network.add(Dense(number_of_classes, activation = 'softmax'))\n",
    "\n",
    "network.compile(loss = 'categorical_crossentropy',\n",
    "                optimizer = 'rmsprop',\n",
    "                metrics = ['accuracy'])\n",
    "\n",
    "network.fit(features_train, \n",
    "            target_train,\n",
    "            epochs = 2,\n",
    "            verbose = 0,\n",
    "            batch_size = 1000,\n",
    "            validation_data = (features_test, target_test))"
   ]
  },
  {
   "cell_type": "markdown",
   "metadata": {},
   "source": [
    "#### 2.7.2 Improving Performace with Image Augmentation"
   ]
  },
  {
   "cell_type": "code",
   "execution_count": null,
   "metadata": {},
   "outputs": [],
   "source": [
    "from keras.preprocessing.image import ImageDataGenerator\n",
    "\n",
    "augmentation = ImageDataGenerator(featurewise_center = True,\n",
    "                                  zoom_range = 0.3,\n",
    "                                  width_shift_range = 0.2,\n",
    "                                  horizontal_flip = True,\n",
    "                                  rotation_range = 90)\n",
    "augment_images = augmentation.flow_from_directory('raw/images',\n",
    "                                                  batch_size = 32,\n",
    "                                                  class_mode ='binary',\n",
    "                                                  save_to_dir = 'processed/images')"
   ]
  },
  {
   "cell_type": "markdown",
   "metadata": {},
   "source": [
    "### 2.8 Classifying Text\n",
    "#### 2.8.1 Applying the recurrent neural network\n",
    "* Key feature: information loops back in the network\n",
    "* Providing a type memory for better understanding sequential data\n",
    "* Popular one: long short-term memory (LSTM)"
   ]
  },
  {
   "cell_type": "code",
   "execution_count": 1,
   "metadata": {},
   "outputs": [
    {
     "name": "stderr",
     "output_type": "stream",
     "text": [
      "Using TensorFlow backend.\n"
     ]
    }
   ],
   "source": [
    "import numpy as np\n",
    "from keras.datasets import imdb\n",
    "from keras.preprocessing import sequence\n",
    "from keras import models, layers\n",
    "\n",
    "np.random.seed(0)\n",
    "\n",
    "number_of_features = 1000\n",
    "\n",
    "(data_train, target_train), (data_test, target_test) = imdb.load_data(num_words = number_of_features)"
   ]
  },
  {
   "cell_type": "code",
   "execution_count": 3,
   "metadata": {},
   "outputs": [
    {
     "data": {
      "text/plain": [
       "<function keras.datasets.imdb.load_data(path='imdb.npz', num_words=None, skip_top=0, maxlen=None, seed=113, start_char=1, oov_char=2, index_from=3, **kwargs)>"
      ]
     },
     "execution_count": 3,
     "metadata": {},
     "output_type": "execute_result"
    }
   ],
   "source": [
    "imdb.load_data"
   ]
  },
  {
   "cell_type": "markdown",
   "metadata": {},
   "source": [
    "'<font color=red><b>pad_sequences</b></font>': padding each observation's data for the same size since the original data have different number of words (inequal length of each data point)"
   ]
  },
  {
   "cell_type": "code",
   "execution_count": 4,
   "metadata": {},
   "outputs": [],
   "source": [
    "features_train = sequence.pad_sequences(data_train, maxlen = 400)\n",
    "features_test = sequence.pad_sequences(data_test, maxlen = 400)\n",
    "\n",
    "network = models.Sequential()"
   ]
  },
  {
   "cell_type": "markdown",
   "metadata": {},
   "source": [
    "'<font color=blue><b>Embedding</b></font>' layer for natural language processing: representing each word as a vector in a multidimensional space, allowing the distance between two vectors to represent the similariyt between words."
   ]
  },
  {
   "cell_type": "code",
   "execution_count": 5,
   "metadata": {},
   "outputs": [],
   "source": [
    "network.add(layers.Embedding(input_dim = number_of_features, output_dim = 128))"
   ]
  },
  {
   "cell_type": "markdown",
   "metadata": {},
   "source": [
    "'<font color=brown><b>LSTM</b></font>': a long short-term memory layer with 128 units"
   ]
  },
  {
   "cell_type": "code",
   "execution_count": 6,
   "metadata": {},
   "outputs": [
    {
     "name": "stdout",
     "output_type": "stream",
     "text": [
      "Train on 25000 samples, validate on 25000 samples\n",
      "Epoch 1/10\n",
      "25000/25000 [==============================] - 106s 4ms/step - loss: 0.6754 - acc: 0.6025 - val_loss: 0.6601 - val_acc: 0.6007\n",
      "Epoch 2/10\n",
      "25000/25000 [==============================] - 106s 4ms/step - loss: 0.6339 - acc: 0.6722 - val_loss: 0.5922 - val_acc: 0.7188\n",
      "Epoch 3/10\n",
      "25000/25000 [==============================] - 106s 4ms/step - loss: 0.4846 - acc: 0.7749 - val_loss: 0.4161 - val_acc: 0.8170\n",
      "Epoch 4/10\n",
      "25000/25000 [==============================] - 111s 4ms/step - loss: 0.3944 - acc: 0.8301 - val_loss: 0.3982 - val_acc: 0.8271\n",
      "Epoch 5/10\n",
      "25000/25000 [==============================] - 110s 4ms/step - loss: 0.3615 - acc: 0.8489 - val_loss: 0.3632 - val_acc: 0.8440\n",
      "Epoch 6/10\n",
      "25000/25000 [==============================] - 105s 4ms/step - loss: 0.3302 - acc: 0.8651 - val_loss: 0.3360 - val_acc: 0.8573\n",
      "Epoch 7/10\n",
      "25000/25000 [==============================] - 106s 4ms/step - loss: 0.3120 - acc: 0.8722 - val_loss: 0.3268 - val_acc: 0.8641\n",
      "Epoch 8/10\n",
      "25000/25000 [==============================] - 105s 4ms/step - loss: 0.3035 - acc: 0.8758 - val_loss: 0.3269 - val_acc: 0.8614\n",
      "Epoch 9/10\n",
      "25000/25000 [==============================] - 103s 4ms/step - loss: 0.3033 - acc: 0.8782 - val_loss: 0.3228 - val_acc: 0.8636\n",
      "Epoch 10/10\n",
      "25000/25000 [==============================] - 103s 4ms/step - loss: 0.2859 - acc: 0.8838 - val_loss: 0.3177 - val_acc: 0.8641\n"
     ]
    }
   ],
   "source": [
    "network.add(layers.LSTM(units = 128))\n",
    "network.add(layers.Dense(units = 1, activation = 'sigmoid'))\n",
    "network.compile(loss = 'binary_crossentropy',\n",
    "                optimizer = 'Adam',\n",
    "                metrics = ['accuracy'])\n",
    "\n",
    "history = network.fit(features_train,\n",
    "                      target_train,\n",
    "                      epochs = 10,\n",
    "                      verbose = 1,\n",
    "                      batch_size = 1000,\n",
    "                      validation_data = (features_test, target_test))"
   ]
  },
  {
   "cell_type": "markdown",
   "metadata": {},
   "source": [
    "### **3. TensorFlow Basics**\n",
    "* <font size=3, color=brown>Powerful library by Google for numerical computation for large-scale Machine Learning</font>\n",
    "* <font size=3, color=green>Simply put: Python program defines a graph of computations to perform, and then TensorFlow take that graph and runs it efficiently using optimized C++ code</font>\n",
    "\n",
    "<img src ='fig9_1.png' width=400><img src ='fig9_2.png' width=400>\n",
    "\n",
    "#### **Some Open Source Deep Learning libraries**\n",
    "\n",
    "| Library | API | Paltforms | Started by | Yeaer |\n",
    "|:-------|:----|:--------|:----------|:-----:|\n",
    "|Caffe|Python,C++,Matlab|Linux,macOS,Windows|Y.Jia,UC Berkeley(BVLC)|2013|\n",
    "|Deeplearning4j|Java,Scala,Clojure|Linux,macOS,Windows,Android|A.Gibson,J.Patterson|2014|\n",
    "|H2O|Python,R|Linux,macOS,Windows|H2O.ai|2014|\n",
    "|MXNet|Python,C++,others|Linux,macOS,Windows,iOS,Android|DMLC|2015|\n",
    "|TensorFlow|Pyhton,C++|Linux,macOS,Windows,iOS,Android|Google|2015|\n",
    "|Theano|Python|Linux,macOS,iOS|University of Montreal|2010|\n",
    "|Torch|C++,Lua|Linux,macOS,iOS,Android|R.Collobert,K.Kavukcuoglu,C.Farabet|2002|\n"
   ]
  },
  {
   "cell_type": "markdown",
   "metadata": {},
   "source": [
    "#### * Tensorflow returns a reference to the desired tensor rather than the value of the tensor ifself; \n",
    "#### * <font color=green>_.eval()_</font> is function for returning the value of the tensor"
   ]
  },
  {
   "cell_type": "code",
   "execution_count": 116,
   "metadata": {},
   "outputs": [
    {
     "name": "stdout",
     "output_type": "stream",
     "text": [
      "[0. 0.]\n",
      "[[1. 1. 1.]\n",
      " [1. 1. 1.]]\n",
      "[[5 5]\n",
      " [5 5]]\n",
      "3\n"
     ]
    }
   ],
   "source": [
    "import tensorflow as tf\n",
    "tf.InteractiveSession()\n",
    "\n",
    "a = tf.zeros(2) # fill the tensors with zeros\n",
    "print(a.eval())\n",
    "\n",
    "b = tf.ones((2,3))  # filling the tensors with ones\n",
    "print(b.eval())\n",
    "\n",
    "c = tf.fill((2, 2), value = 5) # filling the tensors with arbitrary values\n",
    "print(c.eval())\n",
    "\n",
    "d = tf.constant(3) # creating a constant tensors\n",
    "print(d.eval())"
   ]
  },
  {
   "cell_type": "code",
   "execution_count": 117,
   "metadata": {},
   "outputs": [
    {
     "name": "stdout",
     "output_type": "stream",
     "text": [
      "[[-1.1510291   0.31776264]\n",
      " [ 0.03440975 -1.634231  ]]\n",
      "[[ 0.20355405 -1.2773987 ]\n",
      " [ 0.9960875  -1.3473536 ]]\n",
      "[[-1.5328822   0.55277014]\n",
      " [ 1.4545512  -0.44041824]]\n"
     ]
    }
   ],
   "source": [
    "# random Normal entries\n",
    "a_rand = tf.random_normal((2, 2), mean = 0, stddev = 1)\n",
    "print(a_rand.eval())\n",
    "# Reduce the numerical insteability of large samples; drops and resamples all values more than two standard deviations from the mean\n",
    "a_rand =  tf.truncated_normal((2, 2), mean =0, stddev = 1)\n",
    "print(a_rand.eval())\n",
    "# random sample from the Uniform distribution over a specific range \n",
    "a_rand = tf.random_uniform((2,2), minval = -2, maxval =2)\n",
    "print(a_rand.eval())"
   ]
  },
  {
   "cell_type": "code",
   "execution_count": 118,
   "metadata": {},
   "outputs": [
    {
     "name": "stdout",
     "output_type": "stream",
     "text": [
      "[[1 0 0 0]\n",
      " [0 2 0 0]\n",
      " [0 0 3 0]\n",
      " [0 0 0 4]]\n"
     ]
    }
   ],
   "source": [
    "r = tf.range(1, 5, 1) # tf.range(start, limit, delta)\n",
    "d = tf.diag(r)\n",
    "print(d.eval())"
   ]
  },
  {
   "cell_type": "code",
   "execution_count": null,
   "metadata": {},
   "outputs": [],
   "source": [
    "# Some useful basic functions\n",
    "tf.matrix_transpose # transpose a matrix\n",
    "tf.eye # identify matrix\n",
    "tf.matmul # matrices multiplication\n",
    "tf.get_default_graph() # Getting the default TensorFlow graph"
   ]
  },
  {
   "cell_type": "code",
   "execution_count": null,
   "metadata": {},
   "outputs": [],
   "source": []
  },
  {
   "cell_type": "markdown",
   "metadata": {},
   "source": [
    "#### **3.1.1 First Graph and Running it in Session**\n",
    "* <font size=3, color=green>Step 1. Building a computation graph$\\Longrightarrow$ ML model and the computation $\\Longrightarrow$ <font color=red>_construction_ phase</font></font>\n",
    "* <font size=3, color=green>Step 2. Run the computation$\\Longrightarrow$ Model evaluation repeatedly $\\Longrightarrow$ <font color=red>_execution_ phase</font></font>"
   ]
  },
  {
   "cell_type": "code",
   "execution_count": 129,
   "metadata": {},
   "outputs": [
    {
     "name": "stdout",
     "output_type": "stream",
     "text": [
      "[1. 1.]\n"
     ]
    }
   ],
   "source": [
    "import tensorflow as tf\n",
    "\n",
    "# Creat a graph (function)\n",
    "x = tf.Variable(3, name = 'x')\n",
    "y = tf.Variable(4, name = 'y')\n",
    "f = x*x*y + y + 2\n",
    "\n",
    "# tf.Variable() provides a wrapper around the tensors that allows for stateful computations\n",
    "# Great a varaible with tensor inside\n",
    "a = tf.Variable(tf.ones(2,2))\n",
    "with tf.Session() as sess:\n",
    "    sess.run(tf.global_variables_initializer())\n",
    "    print(a.eval())"
   ]
  },
  {
   "cell_type": "code",
   "execution_count": 37,
   "metadata": {},
   "outputs": [
    {
     "name": "stdout",
     "output_type": "stream",
     "text": [
      "42\n"
     ]
    }
   ],
   "source": [
    "# tf.Session() stores the context under which a computation is performed.\n",
    "# Regular Session\n",
    "sess = tf.Session()\n",
    "sess.run(x.initializer)\n",
    "sess.run(y.initializer)\n",
    "\n",
    "result =  sess.run(f)\n",
    "print(result)\n",
    "sess.close()"
   ]
  },
  {
   "cell_type": "code",
   "execution_count": 38,
   "metadata": {},
   "outputs": [
    {
     "data": {
      "text/plain": [
       "42"
      ]
     },
     "execution_count": 38,
     "metadata": {},
     "output_type": "execute_result"
    }
   ],
   "source": [
    "# Have to repeat the session\n",
    "with tf.Session() as sess:\n",
    "    x.initializer.run()\n",
    "    y.initializer.run()\n",
    "    result = f.eval()\n",
    "result"
   ]
  },
  {
   "cell_type": "code",
   "execution_count": 39,
   "metadata": {},
   "outputs": [
    {
     "data": {
      "text/plain": [
       "42"
      ]
     },
     "execution_count": 39,
     "metadata": {},
     "output_type": "execute_result"
    }
   ],
   "source": [
    "# Use the global initializer to every single variable\n",
    "init = tf.global_variables_initializer()\n",
    "\n",
    "with tf.Session() as sess:\n",
    "    init.run() # initialize all the variables\n",
    "    result =  f.eval()\n",
    "result"
   ]
  },
  {
   "cell_type": "code",
   "execution_count": 40,
   "metadata": {},
   "outputs": [
    {
     "name": "stdout",
     "output_type": "stream",
     "text": [
      "42\n"
     ]
    }
   ],
   "source": [
    "# Interactive Session; you need manually close the 'with' block\n",
    "sess = tf.InteractiveSession()\n",
    "init.run()\n",
    "result = f.eval()\n",
    "print(result)\n",
    "sess.close()"
   ]
  },
  {
   "cell_type": "markdown",
   "metadata": {},
   "source": [
    "#### **3.1.2 Managing Graphs**"
   ]
  },
  {
   "cell_type": "code",
   "execution_count": 41,
   "metadata": {},
   "outputs": [
    {
     "data": {
      "text/plain": [
       "True"
      ]
     },
     "execution_count": 41,
     "metadata": {},
     "output_type": "execute_result"
    }
   ],
   "source": [
    "# Any Node is automatically added to the default graph:\n",
    "x1 = tf.Variable(1)\n",
    "x1.graph is tf.get_default_graph()"
   ]
  },
  {
   "cell_type": "code",
   "execution_count": 42,
   "metadata": {},
   "outputs": [
    {
     "name": "stdout",
     "output_type": "stream",
     "text": [
      "True\n",
      "False\n"
     ]
    }
   ],
   "source": [
    "# Manage multiple independant graphs; need to creat Graph abd temporarily making it the default graph inside a 'with' block\n",
    "graph = tf.Graph()\n",
    "with graph.as_default():\n",
    "    x2 = tf.Variable(2)\n",
    "print(x2.graph is graph)\n",
    "print(x2.graph is tf.get_default_graph())"
   ]
  },
  {
   "cell_type": "markdown",
   "metadata": {},
   "source": [
    "* <font size=3, color=brown>To remove (reset) the many duplicate nodes in a default graph, just reset the default graph by running <font color=red>'*tf.reset_default_graph()*'</font></font>"
   ]
  },
  {
   "cell_type": "markdown",
   "metadata": {},
   "source": [
    "#### **3.1.3 Lifecycle of a Node Value**\n",
    "* <font size=3, color=green>All node values are dropped between the graph runs</font>\n",
    "* <font size=3, color=green>Variable values maintain until the sesssion is closed</font>"
   ]
  },
  {
   "cell_type": "code",
   "execution_count": 43,
   "metadata": {},
   "outputs": [
    {
     "name": "stdout",
     "output_type": "stream",
     "text": [
      "y and z values are 10 and 15 , respectively.\n"
     ]
    }
   ],
   "source": [
    "# An efficient way to evaluating the results\n",
    "w = tf.constant(3)\n",
    "x = w + 2\n",
    "y = x + 5\n",
    "z = x * 3\n",
    "\n",
    "with tf.Session() as sess:\n",
    "    y_val, z_val = sess.run([y, z])\n",
    "    print('y and z values are', y_val,'and', z_val,', respectively.')"
   ]
  },
  {
   "cell_type": "markdown",
   "metadata": {},
   "source": [
    "### **3.2 Linear Regression with TensorFlow**\n",
    "* <font size=3>The inputs and outputs are multidimensional arrays (1-_n_ array(s)), called <font color=green>*tensors*</font></font>\n",
    "* <font size=3>Python API tensors were simply represented by NumPy ndarrays (e.g., float, integar, string)</font>\n",
    "* <font size=3>The matrix functions (e.g., _transpose()_, _matmul()_, *matrix_inverse()*) do NOT be performed; instead, they create nodes in the graph that will perform them when the graph is run.</font>\n",
    "* <font size=3>Using <font color=green>*Normal Equation*</font></font>"
   ]
  },
  {
   "cell_type": "code",
   "execution_count": 56,
   "metadata": {},
   "outputs": [
    {
     "name": "stdout",
     "output_type": "stream",
     "text": [
      "[[-3.7185181e+01]\n",
      " [ 4.3633747e-01]\n",
      " [ 9.3952334e-03]\n",
      " [-1.0711310e-01]\n",
      " [ 6.4479220e-01]\n",
      " [-4.0338000e-06]\n",
      " [-3.7813708e-03]\n",
      " [-4.2348403e-01]\n",
      " [-4.3721911e-01]]\n"
     ]
    }
   ],
   "source": [
    "import tensorflow as tf\n",
    "import numpy as np\n",
    "from sklearn.datasets import fetch_california_housing\n",
    "\n",
    "housing = fetch_california_housing()\n",
    "m, n = housing.data.shape\n",
    "housing_data_plus_bias = np.c_[np.ones((m, 1)), housing.data]\n",
    "\n",
    "X = tf.constant(housing_data_plus_bias, dtype = tf.float32, name = 'X')\n",
    "y = tf.constant(housing.target.reshape(-1,1), dtype = tf.float32, name = 'y')\n",
    "\n",
    "XT = tf.transpose(X)\n",
    "\n",
    "theta = tf.matmul(tf.matmul(tf.matrix_inverse(tf.matmul(XT, X)), XT), y)\n",
    "\n",
    "with tf.Session() as sess:\n",
    "    theta_value = theta.eval()\n",
    "\n",
    "print(theta_value)"
   ]
  },
  {
   "cell_type": "markdown",
   "metadata": {},
   "source": [
    "### **3.3 Implementing Gradient Descent**\n",
    "* <font size=3>Using <font color=brown>*Batch Gradient Descent*</font> intead of <font color=green>*Normal Equation*</font></font>\n",
    "* <font size=3>Normalize the input feature vectors: TensorFlow, NumPy, Scikit-Learn's <font color=brown>_StandardScaler_</font></font>\n",
    "\n",
    "#### **3.3.1. Manually Computing**\n",
    "* <font size=3 color=red> Some Important Notes</font>   \n",
    "    * *random_uniform()* $\\Longrightarrow$ Creating a node in a graph that will generate a tensor containing random values\n",
    "    $\\Longrightarrow$ similar to NumPy *rand()*\n",
    "    * *assing()* $\\Longrightarrow$ Creating a node that will assign a new value to a variable: $\\theta^{(next \\ step)} = \\theta - \\eta\\bigtriangledown_{\\theta}MSE(\\theta)$"
   ]
  },
  {
   "cell_type": "code",
   "execution_count": 96,
   "metadata": {},
   "outputs": [
    {
     "name": "stdout",
     "output_type": "stream",
     "text": [
      "Epoch 0 MSE 8.116656\n",
      "Epoch 100 MSE 4.9139776\n",
      "Epoch 200 MSE 4.850081\n",
      "Epoch 300 MSE 4.837301\n",
      "Epoch 400 MSE 4.8288536\n",
      "Epoch 500 MSE 4.822629\n",
      "Epoch 600 MSE 4.817987\n",
      "Epoch 700 MSE 4.8145165\n",
      "Epoch 800 MSE 4.8119063\n",
      "Epoch 900 MSE 4.8099337\n"
     ]
    }
   ],
   "source": [
    "from sklearn.preprocessing import StandardScaler\n",
    "\n",
    "std_func = StandardScaler()\n",
    "scaled_housing_data_plus_bias = std_func.fit(housing_data_plus_bias).transform(housing_data_plus_bias)\n",
    "\n",
    "n_epochs = 1000\n",
    "learning_rate = 0.01\n",
    "\n",
    "X = tf.constant(scaled_housing_data_plus_bias, dtype = tf.float32, name = 'X')\n",
    "y = tf.constant(housing.target.reshape(-1, 1), dtype = tf.float32, name = 'y')\n",
    "theta = tf.Variable(tf.random_uniform([n + 1, 1], -1.0, 1.0), name = 'theta')\n",
    "y_pred = tf.matmul(X, theta, name = 'predictions')\n",
    "error = y_pred - y\n",
    "mse = tf.reduce_mean(tf.square(error), name = 'mse')\n",
    "gradients = 2/m * tf.matmul(tf.transpose(X), error)\n",
    "training_op = tf.assign(theta, theta - learning_rate * gradients)\n",
    "\n",
    "init = tf.global_variables_initializer()\n",
    "\n",
    "with tf.Session() as sess:\n",
    "    sess.run(init)\n",
    "    \n",
    "    for epoch in range(n_epochs):\n",
    "        if epoch % 100 == 0:\n",
    "            print('Epoch', epoch, 'MSE', mse.eval())\n",
    "        sess.run(training_op)\n",
    "    \n",
    "    best_theta = theta.eval()"
   ]
  },
  {
   "cell_type": "markdown",
   "metadata": {},
   "source": [
    "#### **3.3.2. Using autodiff**\n",
    "* <font size=3>TensorFlow's <font color=darkorange>_autodiff_</font>: automatically and efficiently compute the gradients</font>\n",
    "    * <font size=3><font color=red>_tf.gradient()_</font> take an op and a list of variables, and it creates a list of ops (one per variable) to compute the gradients of the op with regards to each variable</font>\n",
    "    * <font size=3> <font color=green>_gradients_</font> node will compute the gradient vector of the MSE with regard to theta</font>"
   ]
  },
  {
   "cell_type": "code",
   "execution_count": 78,
   "metadata": {},
   "outputs": [
    {
     "name": "stdout",
     "output_type": "stream",
     "text": [
      "Epoch 0 MSE 9.886628\n",
      "Epoch 100 MSE 5.098451\n",
      "Epoch 200 MSE 4.974345\n",
      "Epoch 300 MSE 4.9305234\n",
      "Epoch 400 MSE 4.898896\n",
      "Epoch 500 MSE 4.8754587\n",
      "Epoch 600 MSE 4.858012\n",
      "Epoch 700 MSE 4.844984\n",
      "Epoch 800 MSE 4.835213\n",
      "Epoch 900 MSE 4.827857\n"
     ]
    }
   ],
   "source": [
    "gradients = tf.gradients(mse, [theta])[0]\n",
    "training_op = tf.assign(theta, theta - learning_rate * gradients)\n",
    "\n",
    "init = tf.global_variables_initializer()\n",
    "\n",
    "with tf.Session() as sess:\n",
    "    sess.run(init)\n",
    "    \n",
    "    for epoch in range(n_epochs):\n",
    "        if epoch % 100 == 0:\n",
    "            print('Epoch', epoch, 'MSE', mse.eval())\n",
    "        sess.run(training_op)"
   ]
  },
  {
   "cell_type": "markdown",
   "metadata": {},
   "source": [
    "* <font size=3 color=orange>**Main solution to compute gradient automatically**</font>"
   ]
  },
  {
   "cell_type": "markdown",
   "metadata": {},
   "source": [
    "|Technique|No of graph traversal to compute all gradient |Accuracy|Supports arbitary code|Comment|\n",
    "|:--------|:--------------------------------------------|:-------|:---------------------|:------|\n",
    "|Numerical differentiation|$n_{inputs}$ +1|Low|Yes|Trival to implement|\n",
    "|Symbolic differentiation|N/A|High|No|Builds a very different graph|\n",
    "|Forward-mode autodiff|$n_{inputs}$|High|Yes|Uses _dual numbers_|\n",
    "|Reserse-mode autodiff|$n_{inputs}$ +1|High|Yes|Implemented by TensorFlow|"
   ]
  },
  {
   "cell_type": "markdown",
   "metadata": {},
   "source": [
    "* <font size=3 color=red>Using an Optimizer</font>"
   ]
  },
  {
   "cell_type": "code",
   "execution_count": null,
   "metadata": {},
   "outputs": [],
   "source": [
    "# Gradient Descend optimizer\n",
    "optimizer = tf.train.GradientDescentOptimizer(learning_rate = learning_rate)\n",
    "training_op = optimizer.minimize(mse)\n",
    "\n",
    "# Using Momentum optimizer\n",
    "optimizer = tf.train.MomentumOptimizer(learning_rate = learning_rate, momentum = 0.9)"
   ]
  },
  {
   "cell_type": "markdown",
   "metadata": {},
   "source": [
    "### **3.4 Feeding Data to the Training Algorithm**\n",
    "#### **3.4.1. Mini-batch Gradient Descent**\n",
    "* Creating a TensorFlow node as placehold ( *placeholder()* ) to hold output\n",
    "* No computation at the node\n",
    "* Optionally, shape cane be specified"
   ]
  },
  {
   "cell_type": "code",
   "execution_count": 83,
   "metadata": {},
   "outputs": [
    {
     "name": "stdout",
     "output_type": "stream",
     "text": [
      "[[6. 7. 8.]]\n",
      "[[ 9. 10. 11.]\n",
      " [12. 13. 14.]]\n"
     ]
    }
   ],
   "source": [
    "A = tf.placeholder(tf.float32, shape = (None, 3)) # any size, three columns\n",
    "B = A + 5\n",
    "with tf.Session() as sess:\n",
    "    B_val_1 = B.eval(feed_dict = {A:[[1, 2, 3]]})\n",
    "    B_val_2 = B.eval(feed_dict = {A:[[4, 5, 6], [7, 8, 9]]})\n",
    "\n",
    "print(B_val_1)\n",
    "print(B_val_2)"
   ]
  },
  {
   "cell_type": "code",
   "execution_count": null,
   "metadata": {},
   "outputs": [],
   "source": [
    "from sklearn.preprocessing import StandardScaler\n",
    "\n",
    "std_func = StandardScaler()\n",
    "scaled_housing_data_plus_bias = std_func.fit(housing_data_plus_bias).transform(housing_data_plus_bias)\n",
    "housing_target = housing.target\n",
    "\n",
    "n_epochs = 1000\n",
    "learning_rate = 0.01\n",
    "batch_size = 100\n",
    "n_batches = int(np.ceil(m/batch_size))\n",
    "\n",
    "X = tf.placeholder(tf.float32, shape = (None, n + 1), name = 'X')\n",
    "y = tf.placeholder(tf.float32, shape = (None, 1), name = 'y')\n",
    "\n",
    "theta = tf.Variable(tf.random_uniform([n + 1, 1], -1.0, 1.0), name = 'theta')\n",
    "y_pred = tf.matmul(X, theta, name = 'predictions')\n",
    "error = y_pred - y\n",
    "mse = tf.reduce_mean(tf.square(error), name = 'mse')\n",
    "gradients = 2/m * tf.matmul(tf.transpose(X), error)\n",
    "training_op = tf.assign(theta, theta - learning_rate * gradients)\n",
    "\n",
    "init = tf.global_variables_initializer()\n",
    "\n",
    "# Something wrong with the codes\n",
    "def fetch_batch(epoch, batch_index, batch_size):\n",
    "    [...] # load the data from disk  \n",
    "    return X_batch, y_batch\n",
    "    \n",
    "with tf.Session() as sess:\n",
    "    sess.run(init)\n",
    "    \n",
    "    for epoch in range(n_epochs):\n",
    "        for batch_index in range(n_batches):\n",
    "            X_batch, y_batch = fetch_batch(epoch, batch_index, batch_size)\n",
    "            sess.run(training_op, feed_dict = {X: X_batch, y:y_batch})\n",
    "\n",
    "best_theta = theta.eval()"
   ]
  },
  {
   "cell_type": "markdown",
   "metadata": {},
   "source": [
    "### **3.5 Saving and Restoring Models**"
   ]
  },
  {
   "cell_type": "code",
   "execution_count": 113,
   "metadata": {},
   "outputs": [],
   "source": [
    "from sklearn.preprocessing import StandardScaler\n",
    "\n",
    "std_func = StandardScaler()\n",
    "scaled_housing_data_plus_bias = std_func.fit(housing_data_plus_bias).transform(housing_data_plus_bias)\n",
    "\n",
    "n_epochs = 1000\n",
    "learning_rate = 0.01\n",
    "\n",
    "X = tf.constant(scaled_housing_data_plus_bias, dtype = tf.float32, name = 'X')\n",
    "y = tf.constant(housing.target.reshape(-1, 1), dtype = tf.float32, name = 'y')\n",
    "theta = tf.Variable(tf.random_uniform([n + 1, 1], -1.0, 1.0), name = 'theta')\n",
    "y_pred = tf.matmul(X, theta, name = 'predictions')\n",
    "error = y_pred - y\n",
    "mse = tf.reduce_mean(tf.square(error), name = 'mse')\n",
    "gradients = 2/m * tf.matmul(tf.transpose(X), error)\n",
    "training_op = tf.assign(theta, theta - learning_rate * gradients)\n",
    "\n",
    "init = tf.global_variables_initializer()\n",
    "saver = tf.train.Saver()\n",
    "\n",
    "with tf.Session() as sess:\n",
    "    sess.run(init)\n",
    "    \n",
    "    for epoch in range(n_epochs):\n",
    "        if epoch % 100 == 0: # checkpoint every 100 epochs\n",
    "            save_path = saver.save(sess, '/tmp/my_model.ckpt')\n",
    "            \n",
    "        sess.run(training_op)\n",
    "    \n",
    "    best_theta = theta.eval()\n",
    "    save_path = saver.save(sess, 'tmp/my_model_final.ckpt')"
   ]
  },
  {
   "cell_type": "code",
   "execution_count": 110,
   "metadata": {},
   "outputs": [],
   "source": [
    "N = 100\n",
    "x_zeros = np.random.multivariate_normal(mean=np.array((-1, -1)), \n",
    "                                        cov=0.1*np.eye(2), size=((np.int(N/2)),))\n"
   ]
  },
  {
   "cell_type": "code",
   "execution_count": 115,
   "metadata": {},
   "outputs": [
    {
     "ename": "SyntaxError",
     "evalue": "can't assign to operator (<ipython-input-115-1d1412d29ae7>, line 1)",
     "output_type": "error",
     "traceback": [
      "\u001b[0;36m  File \u001b[0;32m\"<ipython-input-115-1d1412d29ae7>\"\u001b[0;36m, line \u001b[0;32m1\u001b[0m\n\u001b[0;31m    tensorboard --logdir='/tmp/my_model_final.ckpt'\u001b[0m\n\u001b[0m                                                   ^\u001b[0m\n\u001b[0;31mSyntaxError\u001b[0m\u001b[0;31m:\u001b[0m can't assign to operator\n"
     ]
    }
   ],
   "source": [
    "="
   ]
  },
  {
   "cell_type": "code",
   "execution_count": null,
   "metadata": {},
   "outputs": [],
   "source": []
  }
 ],
 "metadata": {
  "kernelspec": {
   "display_name": "Python 3.8.9 64-bit",
   "language": "python",
   "name": "python3"
  },
  "language_info": {
   "codemirror_mode": {
    "name": "ipython",
    "version": 3
   },
   "file_extension": ".py",
   "mimetype": "text/x-python",
   "name": "python",
   "nbconvert_exporter": "python",
   "pygments_lexer": "ipython3",
   "version": "3.8.9"
  },
  "vscode": {
   "interpreter": {
    "hash": "31f2aee4e71d21fbe5cf8b01ff0e069b9275f58929596ceb00d14d90e3e16cd6"
   }
  }
 },
 "nbformat": 4,
 "nbformat_minor": 4
}
